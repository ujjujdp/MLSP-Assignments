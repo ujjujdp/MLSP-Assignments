{
 "cells": [
  {
   "cell_type": "code",
   "execution_count": 36,
   "id": "a9f981b4",
   "metadata": {},
   "outputs": [],
   "source": [
    "# Importing necessary packages\n",
    "import numpy as np\n",
    "from scipy.io import wavfile\n",
    "import math\n",
    "import matplotlib.pyplot as plt\n",
    "from sklearn.decomposition import PCA\n",
    "from scipy.spatial import distance\n",
    "from scipy.stats import multivariate_normal\n",
    "import random\n",
    "import ntpath\n",
    "import os"
   ]
  },
  {
   "cell_type": "code",
   "execution_count": 37,
   "id": "551671b5",
   "metadata": {},
   "outputs": [],
   "source": [
    "speechTrainPath = r\"C:\\Users\\ujjaw\\Desktop\\MLSP_Assignments\\Ass2\\3\\speech_music_classification\\train\\speech\"\n",
    "musicTrainPath = r\"C:\\Users\\ujjaw\\Desktop\\MLSP_Assignments\\Ass2\\3\\speech_music_classification\\train\\music\""
   ]
  },
  {
   "cell_type": "code",
   "execution_count": 38,
   "id": "d1e91196",
   "metadata": {},
   "outputs": [],
   "source": [
    "musicTrainData = []\n",
    "for filename in os.scandir(musicTrainPath):\n",
    "    if filename.is_file():\n",
    "        filename2 = musicTrainPath + \"\\\\\" + ntpath.basename(filename)\n",
    "        musicTrainData.append(filename2)\n",
    "\n",
    "        speechTrainData = []\n",
    "for filename in os.scandir(speechTrainPath):\n",
    "    if filename.is_file():\n",
    "        filename2 = speechTrainPath + \"\\\\\" + ntpath.basename(filename)\n",
    "        speechTrainData.append(filename2)\n",
    "# print(len(musicTrainData))\n",
    "# print(len(speechTrainData))\n",
    "    "
   ]
  },
  {
   "cell_type": "code",
   "execution_count": 39,
   "id": "5a0fadbb",
   "metadata": {},
   "outputs": [],
   "source": [
    "F = np.zeros((64,400), np.complex64)\n",
    "def spectrogram(data):\n",
    "    hammingWindowSize=int(25*16000/1000)\n",
    "    shiftLength = int(10*16000/1000)\n",
    "#     nFFT=256\n",
    "    for i in range(64):\n",
    "        for j in range(400):\n",
    "            F[i,j] =  np.exp(-2j *i * j * math.pi/400)\n",
    "    spec = np.zeros(((1 + np.int(np.floor((len(data) - hammingWindowSize) / float(shiftLength)))), 64), np.complex64)\n",
    "    for i in range((1 + np.int(np.floor((len(data) - hammingWindowSize) / float(shiftLength))))):\n",
    "        spec[i] = np.matmul(F,np.multiply(data[i * shiftLength: i * shiftLength + hammingWindowSize],np.hamming(hammingWindowSize)))\n",
    "    spec = np.log(np.abs(spec[:, :64 // 2])+1e-8)\n",
    "    return spec"
   ]
  },
  {
   "cell_type": "code",
   "execution_count": 40,
   "id": "6cacbdb5",
   "metadata": {},
   "outputs": [
    {
     "name": "stderr",
     "output_type": "stream",
     "text": [
      "C:\\Users\\ujjaw\\AppData\\Local\\Temp\\ipykernel_11108\\4240987744.py:9: DeprecationWarning: `np.int` is a deprecated alias for the builtin `int`. To silence this warning, use `int` by itself. Doing this will not modify any behavior and is safe. When replacing `np.int`, you may wish to use e.g. `np.int64` or `np.int32` to specify the precision. If you wish to review your current use, check the release note link for additional information.\n",
      "Deprecated in NumPy 1.20; for more details and guidance: https://numpy.org/devdocs/release/1.20.0-notes.html#deprecations\n",
      "  spec = np.zeros(((1 + np.int(np.floor((len(data) - hammingWindowSize) / float(shiftLength)))), 64), np.complex64)\n",
      "C:\\Users\\ujjaw\\AppData\\Local\\Temp\\ipykernel_11108\\4240987744.py:10: DeprecationWarning: `np.int` is a deprecated alias for the builtin `int`. To silence this warning, use `int` by itself. Doing this will not modify any behavior and is safe. When replacing `np.int`, you may wish to use e.g. `np.int64` or `np.int32` to specify the precision. If you wish to review your current use, check the release note link for additional information.\n",
      "Deprecated in NumPy 1.20; for more details and guidance: https://numpy.org/devdocs/release/1.20.0-notes.html#deprecations\n",
      "  for i in range((1 + np.int(np.floor((len(data) - hammingWindowSize) / float(shiftLength))))):\n"
     ]
    },
    {
     "name": "stdout",
     "output_type": "stream",
     "text": [
      "(119920, 32)\n"
     ]
    }
   ],
   "source": [
    "musicFrames = []\n",
    "for i in range(len(musicTrainData)):\n",
    "    sampleRate, data = wavfile.read(musicTrainData[i])\n",
    "    tempSpecData = spectrogram(data)\n",
    "    musicFrames.extend(tempSpecData)\n",
    "musicFrames = np.array(musicFrames)\n",
    "print(musicFrames.shape)"
   ]
  },
  {
   "cell_type": "code",
   "execution_count": 41,
   "id": "8be441d8",
   "metadata": {},
   "outputs": [
    {
     "name": "stderr",
     "output_type": "stream",
     "text": [
      "C:\\Users\\ujjaw\\AppData\\Local\\Temp\\ipykernel_11108\\4240987744.py:9: DeprecationWarning: `np.int` is a deprecated alias for the builtin `int`. To silence this warning, use `int` by itself. Doing this will not modify any behavior and is safe. When replacing `np.int`, you may wish to use e.g. `np.int64` or `np.int32` to specify the precision. If you wish to review your current use, check the release note link for additional information.\n",
      "Deprecated in NumPy 1.20; for more details and guidance: https://numpy.org/devdocs/release/1.20.0-notes.html#deprecations\n",
      "  spec = np.zeros(((1 + np.int(np.floor((len(data) - hammingWindowSize) / float(shiftLength)))), 64), np.complex64)\n",
      "C:\\Users\\ujjaw\\AppData\\Local\\Temp\\ipykernel_11108\\4240987744.py:10: DeprecationWarning: `np.int` is a deprecated alias for the builtin `int`. To silence this warning, use `int` by itself. Doing this will not modify any behavior and is safe. When replacing `np.int`, you may wish to use e.g. `np.int64` or `np.int32` to specify the precision. If you wish to review your current use, check the release note link for additional information.\n",
      "Deprecated in NumPy 1.20; for more details and guidance: https://numpy.org/devdocs/release/1.20.0-notes.html#deprecations\n",
      "  for i in range((1 + np.int(np.floor((len(data) - hammingWindowSize) / float(shiftLength))))):\n"
     ]
    },
    {
     "name": "stdout",
     "output_type": "stream",
     "text": [
      "(119920, 32)\n"
     ]
    }
   ],
   "source": [
    "speechFrames = []\n",
    "for i in range(len(speechTrainData)):\n",
    "    sampleRate, data = wavfile.read(speechTrainData[i])\n",
    "    tempSpecData = spectrogram(data)\n",
    "    speechFrames.extend(tempSpecData)\n",
    "speechFrames = np.array(speechFrames)\n",
    "print(speechFrames.shape)"
   ]
  },
  {
   "cell_type": "code",
   "execution_count": 42,
   "id": "b52a2ea2",
   "metadata": {},
   "outputs": [],
   "source": [
    "def K_Means(data,noOfClusters):\n",
    "    dataLength = data.shape[1]\n",
    "    centers = []\n",
    "    for i in range(noOfClusters):\n",
    "        centers.append(data[random.randint(0,dataLength-1)])\n",
    "#     centers = musicFrames[np.random.choice(np.arange(len(musicFrames)), size = noOfClusters)]\n",
    "    noOfItr = 1000\n",
    "    for i in range(noOfItr):\n",
    "        distMat = np.zeros((len(musicFrames), noOfClusters))\n",
    "        for j in range(noOfClusters):\n",
    "            distMat[:, j] = ED(musicFrames, centers[j])\n",
    "        whichCluster = distMat.argmin(axis=1)\n",
    "        tempCenters = np.zeros_like(centers)\n",
    "        for j in range(noOfClusters):\n",
    "            tempCenters[j] = np.mean(musicFrames[whichCluster == j], axis=0)\n",
    "        centers = tempCenters\n",
    "    return centers\n",
    "\n",
    "def K_MeansPredict(data,noOfClusters,centers):\n",
    "    distMat = np.zeros((len(data), noOfClusters))\n",
    "    for i in range(noOfClusters):\n",
    "        distMat[:, i] = ED(musicFrames, centers[i]) \n",
    "    whichCluster = distMat.argmin(axis=1)\n",
    "    return whichCluster\n",
    "        \n",
    "def ED(x,y):\n",
    "    return np.sqrt(np.sum((x - y) ** 2, axis=1))"
   ]
  },
  {
   "cell_type": "code",
   "execution_count": 43,
   "id": "aa3c8fd0",
   "metadata": {},
   "outputs": [],
   "source": [
    "# centers = K_Means(musicFrames, 5)\n",
    "# print(len(centers))\n",
    "# for i in range(5):\n",
    "#     print(centers[i])"
   ]
  },
  {
   "cell_type": "code",
   "execution_count": 59,
   "id": "40d0b5f9",
   "metadata": {},
   "outputs": [],
   "source": [
    "class GMM:\n",
    "    def __init__(self, numberOfMixtures, clusters = None, totalIterations = 1000, covarianceFlag = True):\n",
    "        self.numberOfMixtures = numberOfMixtures\n",
    "        self.totalIterations = totalIterations\n",
    "        self.logLikeliHoodList = []\n",
    "        self.covarianceFlag = covarianceFlag\n",
    "        if clusters == None:\n",
    "            temp = []\n",
    "            for i in range(0, self.numberOfMixtures):\n",
    "                temp.append(\"cluster\" + str(i))\n",
    "            self.cluster = temp\n",
    "        else:\n",
    "            self.clusters = clusters\n",
    "        self.alpha = np.ones(numberOfMixtures) / numberOfMixtures\n",
    "    \n",
    "    \n",
    "    def multivariateNormal(self, musicFrames, mean, covariance):\n",
    "        a = multivariate_normal(mean=mean, cov=covariance)\n",
    "        return a.pdf(musicFrames)\n",
    "\n",
    "\n",
    "    def logLikelihood(self, musicFrames):\n",
    "        # alpha = np.ones(numberOfMixtures) / numberOfMixtures\n",
    "        p = np.zeros((len(musicFrames), self.numberOfMixtures))\n",
    "        for i in range(self.numberOfMixtures):\n",
    "            p[:, i] = self.alpha[i] * multivariate_normal(self.mv[i], self.covariance[i]).pdf(musicFrames)\n",
    "            # probs[:, i] = self.alphas[i] * self.p(data, self.means[i], self.covs[i])\n",
    "            # p.append([multivariate_normal(mv[k], covariance[k]).pdf(musicFrames[n]) for k in range(numberOfMixtures)])\n",
    "        likeliHood = np.sum(np.log(p.sum(axis=1)))\n",
    "        return likeliHood\n",
    "\n",
    "\n",
    "    def GMMfit(self, musicFrames):\n",
    "        flag = 0\n",
    "        self.mv = K_Means(musicFrames,self.numberOfMixtures)\n",
    "        self.covariance = np.zeros((self.numberOfMixtures, musicFrames.shape[1], musicFrames.shape[1]))\n",
    "        predictionKMean = K_MeansPredict(musicFrames,self.numberOfMixtures,self.mv)\n",
    "        for i in range(self.numberOfMixtures):\n",
    "            self.covariance[i] = np.cov(musicFrames[predictionKMean == i].T)\n",
    "        for _ in range(self.totalIterations):\n",
    "            self.temp = np.zeros((len(musicFrames), self.numberOfMixtures)) \n",
    "            for i in range(self.numberOfMixtures):\n",
    "                self.temp[:,i] = self.alpha[i] * (multivariate_normal(self.mv[i], self.covariance[i]).pdf(musicFrames))\n",
    "            self.logLikeliHoodList.append(np.sum(np.log(self.temp.sum(axis=1))))\n",
    "            self.temp = self.temp / self.temp.sum(axis=1)[:, None]\n",
    "\n",
    "\n",
    "\n",
    "            tmv = np.zeros_like(self.mv)\n",
    "            for i in range(self.numberOfMixtures):\n",
    "                tmv[i] = np.multiply(self.temp[:, i][:, None], musicFrames).sum(axis=0) / self.temp[: , i].sum()\n",
    "            omv = self.mv\n",
    "            self.mv = tmv\n",
    "            covarinaceOld = self.covariance\n",
    "\n",
    "            if(self.covarianceFlag == True):\n",
    "                diagonalCovarinace = ((np.dot((self.temp.T), (musicFrames * musicFrames)) / self.temp.sum(axis=0)[:, None]) \n",
    "                  - 2 \n",
    "                  * (self.mv * np.dot(self.temp.T, musicFrames) / self.temp.sum(axis=0)[:, None]) \n",
    "                  + (self.mv * self.mv) + 1e-6)\n",
    "                self.covariance = [np.diag(c) for c in diagonalCovarinace]\n",
    "            else:\n",
    "                covarinaceNew = np.zeros_like(self.covariance)\n",
    "                for i in range(self.numberOfMixtures):\n",
    "                    covarinaceNew[i] = np.dot(self.temp[:, i] * (musicFrames - self.mv[i]).T, (musicFrames - self.mv[i])) / self.temp[:, i].sum()    \n",
    "                    covarinaceNew[i].flat[::musicFrames.shape[1] + 1] += 1e-6\n",
    "                    self.covariance[i] = covarinaceNew[i]\n",
    "\n",
    "            alphaOld = self.alpha\n",
    "            self.alpha = self.temp.mean(axis=0)\n",
    "\n",
    "            if np.allclose(self.alpha, alphaOld, rtol=1e-3, atol = 1e-3) and \\\n",
    "                np.allclose(self.covariance, covarinaceOld, rtol=1e-3, atol = 1e-3) and\\\n",
    "                np.allclose(self.mv, omv, rtol=1e-3, atol = 1e-3):\n",
    "                flag += 1\n",
    "                if(flag == 3):\n",
    "                    print(\"Converged at, \", _)\n",
    "                    break\n",
    "\n",
    "    def GMMpredict(self, musicFrames):\n",
    "        pos = []\n",
    "        result = []\n",
    "        for n in range(len(musicFrames)):\n",
    "            for k in range(self.numberOfMixtures):\n",
    "                pos.append([multivariate_normal(self.mv[k], self.covariance[k]).pdf(musicFrames[n])])  \n",
    "        for p in pos:\n",
    "            result.append(self.clusters[p.index(max(p))])\n",
    "        return result\n"
   ]
  },
  {
   "cell_type": "code",
   "execution_count": 58,
   "id": "b12b57f8",
   "metadata": {},
   "outputs": [
    {
     "name": "stdout",
     "output_type": "stream",
     "text": [
      "Converged at,  10\n"
     ]
    },
    {
     "data": {
      "text/plain": [
       "Text(0, 0.5, 'Log likelihood')"
      ]
     },
     "execution_count": 58,
     "metadata": {},
     "output_type": "execute_result"
    },
    {
     "data": {
      "image/png": "[encoded data removed]",
      "text/plain": [
       "<Figure size 432x288 with 1 Axes>"
      ]
     },
     "metadata": {
      "needs_background": "light"
     },
     "output_type": "display_data"
    }
   ],
   "source": [
    "diagonalCovariance_2_MusicModel = GMM(2)\n",
    "diagonalCovariance_2_MusicModel.GMMfit(musicFrames)\n",
    "\n",
    "plt.plot(-np.array(diagonalCovariance_2_MusicModel.logLikeliHoodList))\n",
    "plt.xlabel(\"#Iterations\")\n",
    "plt.ylabel(\"Log Likelihood\")\n",
    "\n",
    "#Working"
   ]
  },
  {
   "cell_type": "code",
   "execution_count": 47,
   "id": "c6b9e068",
   "metadata": {},
   "outputs": [
    {
     "name": "stdout",
     "output_type": "stream",
     "text": [
      "Converged at,  24\n"
     ]
    },
    {
     "data": {
      "text/plain": [
       "Text(0, 0.5, 'Log_likelihood')"
      ]
     },
     "execution_count": 47,
     "metadata": {},
     "output_type": "execute_result"
    },
    {
     "data": {
      "image/png": "[encoded data removed]",
      "text/plain": [
       "<Figure size 432x288 with 1 Axes>"
      ]
     },
     "metadata": {
      "needs_background": "light"
     },
     "output_type": "display_data"
    }
   ],
   "source": [
    "fullCovariance_2_MusicModel= GMM(2, covarianceFlag = False)\n",
    "fullCovariance_2_MusicModel.GMMfit(musicFrames)\n",
    "\n",
    "plt.plot(fullCovariance_2_MusicModel.logLikeliHoodList)\n",
    "plt.xlabel(\"#Iterations\")\n",
    "plt.ylabel(\"Log Likelihood\")\n",
    "\n",
    "#Working"
   ]
  },
  {
   "cell_type": "code",
   "execution_count": 49,
   "id": "0085afd7",
   "metadata": {},
   "outputs": [],
   "source": [
    "diagonalCovariance_5_MusicModel = GMM(numberOfMixtures = 5)\n",
    "diagonalCovariance_5_MusicModel.GMMfit(musicFrames)\n",
    "\n",
    "plt.plot(-np.array(diagonalCovariance_5_MusicModel.logLikeliHoodList))\n",
    "plt.xlabel(\"#Iterations\")\n",
    "plt.ylabel(\"Log Likelihood\")"
   ]
  },
  {
   "cell_type": "code",
   "execution_count": 52,
   "id": "abbd4ae4",
   "metadata": {},
   "outputs": [
    {
     "name": "stdout",
     "output_type": "stream",
     "text": [
      "Converged at,  27\n"
     ]
    },
    {
     "data": {
      "text/plain": [
       "Text(0, 0.5, 'Log_likelihood')"
      ]
     },
     "execution_count": 52,
     "metadata": {},
     "output_type": "execute_result"
    },
    {
     "data": {
      "image/png": "[encoded data removed]",
      "text/plain": [
       "<Figure size 432x288 with 1 Axes>"
      ]
     },
     "metadata": {
      "needs_background": "light"
     },
     "output_type": "display_data"
    }
   ],
   "source": [
    "fullCovariance_5_MusicModel = GMM(5, covarianceFlag = False)\n",
    "fullCovariance_5_MusicModel.GMMfit(musicFrames)\n",
    "\n",
    "plt.plot(fullCovariance_5_MusicModel.logLikeliHoodList)\n",
    "plt.xlabel(\"#Iterations\")\n",
    "plt.ylabel(\"Log Likelihood\")\n",
    "\n",
    "#Working"
   ]
  },
  {
   "cell_type": "code",
   "execution_count": 60,
   "id": "80eef414",
   "metadata": {},
   "outputs": [
    {
     "name": "stdout",
     "output_type": "stream",
     "text": [
      "Converged at,  11\n"
     ]
    },
    {
     "data": {
      "text/plain": [
       "Text(0, 0.5, 'Log likelihood')"
      ]
     },
     "execution_count": 60,
     "metadata": {},
     "output_type": "execute_result"
    },
    {
     "data": {
      "image/png": "[encoded data removed]",
      "text/plain": [
       "<Figure size 432x288 with 1 Axes>"
      ]
     },
     "metadata": {
      "needs_background": "light"
     },
     "output_type": "display_data"
    }
   ],
   "source": [
    "diagonalCovariance_2_SpeechModel = GMM(2)\n",
    "diagonalCovariance_2_SpeechModel.GMMfit(speechFrames)\n",
    "\n",
    "plt.plot(-np.array(diagonalCovariance_2_SpeechModel.logLikeliHoodList))\n",
    "plt.xlabel(\"#Iterations\")\n",
    "plt.ylabel(\"Log Likelihood\")\n",
    "\n",
    "#Working"
   ]
  },
  {
   "cell_type": "code",
   "execution_count": 48,
   "id": "33c67d85",
   "metadata": {},
   "outputs": [
    {
     "name": "stdout",
     "output_type": "stream",
     "text": [
      "Converged at,  19\n"
     ]
    },
    {
     "data": {
      "text/plain": [
       "Text(0, 0.5, 'Log_likelihood')"
      ]
     },
     "execution_count": 48,
     "metadata": {},
     "output_type": "execute_result"
    },
    {
     "data": {
      "image/png": "[encoded data removed]",
      "text/plain": [
       "<Figure size 432x288 with 1 Axes>"
      ]
     },
     "metadata": {
      "needs_background": "light"
     },
     "output_type": "display_data"
    }
   ],
   "source": [
    "fullCovariance_2_SpeechModel= GMM(2, covarianceFlag = False)\n",
    "fullCovariance_2_SpeechModel.GMMfit(speechFrames)\n",
    "\n",
    "plt.plot(fullCovariance2SpeechModel.logLikeliHoodList)\n",
    "plt.xlabel(\"#Iterations\")\n",
    "plt.ylabel(\"Log Likelihood\")\n",
    "#Working"
   ]
  },
  {
   "cell_type": "code",
   "execution_count": 51,
   "id": "e844b09c",
   "metadata": {},
   "outputs": [],
   "source": [
    "diagonalCovariance_5_SpeechModel = GMM(5)\n",
    "diagonalCovariance_5_SpeechModel.GMMfit(speechFrames)\n",
    "\n",
    "plt.plot(-np.array(diagonalCovariance_5_SpeechModel.logLikeliHoodList))\n",
    "plt.xlabel(\"#Iterations\")\n",
    "plt.ylabel(\"Log Likelihood\")"
   ]
  },
  {
   "cell_type": "code",
   "execution_count": 53,
   "id": "47d588e4",
   "metadata": {},
   "outputs": [],
   "source": [
    "# fullCovariance_5_SpeechModel = GMM(5, covarianceFlag = False)\n",
    "# fullCovariance_5_SpeechModel.GMMfit(speechFrames)\n",
    "\n",
    "# plt.plot(fullCovariance_5_SpeechModel.logLikeliHoodList)\n",
    "# plt.xlabel(\"#Iterations\")\n",
    "# plt.ylabel(\"Log Likelihood\")"
   ]
  },
  {
   "cell_type": "code",
   "execution_count": 54,
   "id": "d595c79e",
   "metadata": {},
   "outputs": [
    {
     "name": "stdout",
     "output_type": "stream",
     "text": [
      "[0, 0, 0, 0, 0, 0, 0, 0, 0, 0, 0, 0, 0, 0, 0, 0, 0, 0, 0, 0, 0, 0, 0, 0, 1, 1, 1, 1, 1, 1, 1, 1, 1, 1, 1, 1, 1, 1, 1, 1, 1, 1, 1, 1, 1, 1, 1, 1]\n"
     ]
    }
   ],
   "source": [
    "#Testing the test data\n",
    "testPath = r\"C:\\Users\\ujjaw\\Desktop\\MLSP_Assignments\\Ass2\\3\\speech_music_classification\\test\"\n",
    "testData = []\n",
    "testFiles = []\n",
    "for filename in os.scandir(testPath):\n",
    "    if filename.is_file():\n",
    "        filename2 = testPath + \"\\\\\" + ntpath.basename(filename)\n",
    "        testFiles.append(filename2)\n",
    "for i in testFiles:\n",
    "    if(i.split('\\\\')[-1].split('_')[0] == 'music'):\n",
    "        testData.append(0)\n",
    "    else:\n",
    "        testData.append(1)\n",
    "print(testData)"
   ]
  },
  {
   "cell_type": "code",
   "execution_count": 71,
   "id": "ddd0d370",
   "metadata": {},
   "outputs": [
    {
     "name": "stderr",
     "output_type": "stream",
     "text": [
      "C:\\Users\\ujjaw\\AppData\\Local\\Temp\\ipykernel_11108\\4240987744.py:9: DeprecationWarning: `np.int` is a deprecated alias for the builtin `int`. To silence this warning, use `int` by itself. Doing this will not modify any behavior and is safe. When replacing `np.int`, you may wish to use e.g. `np.int64` or `np.int32` to specify the precision. If you wish to review your current use, check the release note link for additional information.\n",
      "Deprecated in NumPy 1.20; for more details and guidance: https://numpy.org/devdocs/release/1.20.0-notes.html#deprecations\n",
      "  spec = np.zeros(((1 + np.int(np.floor((len(data) - hammingWindowSize) / float(shiftLength)))), 64), np.complex64)\n",
      "C:\\Users\\ujjaw\\AppData\\Local\\Temp\\ipykernel_11108\\4240987744.py:10: DeprecationWarning: `np.int` is a deprecated alias for the builtin `int`. To silence this warning, use `int` by itself. Doing this will not modify any behavior and is safe. When replacing `np.int`, you may wish to use e.g. `np.int64` or `np.int32` to specify the precision. If you wish to review your current use, check the release note link for additional information.\n",
      "Deprecated in NumPy 1.20; for more details and guidance: https://numpy.org/devdocs/release/1.20.0-notes.html#deprecations\n",
      "  for i in range((1 + np.int(np.floor((len(data) - hammingWindowSize) / float(shiftLength))))):\n"
     ]
    }
   ],
   "source": [
    "predicted = []\n",
    "for i in range(len(testFiles)):\n",
    "    testSampleRate, testData = wavfile.read(testFiles[i])\n",
    "    testDataSpec = spectrogram(testData)\n",
    "\n",
    "    testSpeechLogLikelihood = diagonalCovariance_2_SpeechModel.logLikelihood(testDataSpec)\n",
    "    testMusicLogLikelihood = diagonalCovariance_2_MusicModel.logLikelihood(testDataSpec)\n",
    "    \n",
    "    if(testMusicLogLikelihood < testSpeechLogLikelihood):\n",
    "        predicted.append(1)\n",
    "    else:\n",
    "        predicted.append(0)"
   ]
  },
  {
   "cell_type": "code",
   "execution_count": 72,
   "id": "f814ee70",
   "metadata": {},
   "outputs": [
    {
     "name": "stdout",
     "output_type": "stream",
     "text": [
      "music_1.wav  is classified as music\n",
      "music_10.wav  is classified as music\n",
      "music_11.wav  is classified as music\n",
      "music_12.wav  is classified as music\n",
      "music_13.wav  is classified as music\n",
      "music_14.wav  is classified as music\n",
      "music_15.wav  is classified as music\n",
      "music_16.wav  is classified as music\n",
      "music_17.wav  is classified as music\n",
      "music_18.wav  is classified as music\n",
      "music_19.wav  is classified as music\n",
      "music_2.wav  is classified as speech\n",
      "music_20.wav  is classified as music\n",
      "music_21.wav  is classified as music\n",
      "music_22.wav  is classified as music\n",
      "music_23.wav  is classified as music\n",
      "music_24.wav  is classified as music\n",
      "music_3.wav  is classified as music\n",
      "music_4.wav  is classified as music\n",
      "music_5.wav  is classified as music\n",
      "music_6.wav  is classified as music\n",
      "music_7.wav  is classified as music\n",
      "music_8.wav  is classified as speech\n",
      "music_9.wav  is classified as music\n",
      "speech_1.wav  is classified as speech\n",
      "speech_10.wav  is classified as speech\n",
      "speech_11.wav  is classified as speech\n",
      "speech_12.wav  is classified as speech\n",
      "speech_13.wav  is classified as speech\n",
      "speech_14.wav  is classified as speech\n",
      "speech_15.wav  is classified as speech\n",
      "speech_16.wav  is classified as speech\n",
      "speech_17.wav  is classified as music\n",
      "speech_18.wav  is classified as speech\n",
      "speech_19.wav  is classified as speech\n",
      "speech_2.wav  is classified as speech\n",
      "speech_20.wav  is classified as speech\n",
      "speech_21.wav  is classified as speech\n",
      "speech_22.wav  is classified as speech\n",
      "speech_23.wav  is classified as speech\n",
      "speech_24.wav  is classified as music\n",
      "speech_3.wav  is classified as speech\n",
      "speech_4.wav  is classified as music\n",
      "speech_5.wav  is classified as speech\n",
      "speech_6.wav  is classified as speech\n",
      "speech_7.wav  is classified as speech\n",
      "speech_8.wav  is classified as speech\n",
      "speech_9.wav  is classified as speech\n"
     ]
    }
   ],
   "source": [
    "for i in range(len(testFiles)):\n",
    "    if (predicted[i] == 0):\n",
    "        print(testFiles[i].split(\"\\\\\")[-1], \" is classified as music\")\n",
    "    else:\n",
    "        print(testFiles[i].split(\"\\\\\")[-1], \" is classified as speech\")"
   ]
  },
  {
   "cell_type": "code",
   "execution_count": 73,
   "id": "23f943a2",
   "metadata": {},
   "outputs": [
    {
     "name": "stdout",
     "output_type": "stream",
     "text": [
      "Accuracy =  89.58 %\n"
     ]
    }
   ],
   "source": [
    "correctPrediction = 0\n",
    "totalPrediction = len(testFiles)\n",
    "for i in range(totalPrediction):\n",
    "    if(predicted[i] == test[i]):\n",
    "        correctPrediction += 1\n",
    "print(\"Accuracy = \", \"{:.2f}\".format(correctPrediction/totalPrediction*100), \"%\")"
   ]
  }
 ],
 "metadata": {
  "kernelspec": {
   "display_name": "Python 3 (ipykernel)",
   "language": "python",
   "name": "python3"
  },
  "language_info": {
   "codemirror_mode": {
    "name": "ipython",
    "version": 3
   },
   "file_extension": ".py",
   "mimetype": "text/x-python",
   "name": "python",
   "nbconvert_exporter": "python",
   "pygments_lexer": "ipython3",
   "version": "3.10.0"
  }
 },
 "nbformat": 4,
 "nbformat_minor": 5
}
