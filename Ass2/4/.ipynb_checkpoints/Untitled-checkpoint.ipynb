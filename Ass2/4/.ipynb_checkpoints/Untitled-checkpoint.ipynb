{
 "cells": [
  {
   "cell_type": "code",
   "execution_count": 47,
   "id": "43f365a5",
   "metadata": {},
   "outputs": [],
   "source": [
    "#Importing necessary library\n",
    "import numpy as np\n",
    "import os\n",
    "import nltk\n",
    "from nltk.corpus import stopwords\n",
    "from tqdm.notebook import tqdm\n",
    "from sklearn.decomposition import PCA\n",
    "import matplotlib.pyplot as plt\n",
    "from scipy.stats import multivariate_normal\n",
    "import random"
   ]
  },
  {
   "cell_type": "code",
   "execution_count": 48,
   "id": "b571b275",
   "metadata": {},
   "outputs": [
    {
     "name": "stderr",
     "output_type": "stream",
     "text": [
      "[nltk_data] Downloading package stopwords to\n",
      "[nltk_data]     C:\\Users\\ujjaw\\AppData\\Roaming\\nltk_data...\n",
      "[nltk_data]   Package stopwords is already up-to-date!\n"
     ]
    },
    {
     "data": {
      "text/plain": [
       "True"
      ]
     },
     "execution_count": 48,
     "metadata": {},
     "output_type": "execute_result"
    }
   ],
   "source": [
    "#downloading stopwords\n",
    "nltk.download('stopwords')"
   ]
  },
  {
   "cell_type": "code",
   "execution_count": 49,
   "id": "8fbf3ef9",
   "metadata": {},
   "outputs": [],
   "source": [
    "#Function to find TF_IDF from list of reviews\n",
    "def formTF_IDF(onlyReviewsList):\n",
    "    #Set of unique words\n",
    "    uniqueWords = set()\n",
    "    for review in onlyReviewsList:\n",
    "        for word in review.split(' '):\n",
    "            if not word in stopwords.words('english'):\n",
    "                uniqueWords.add(word)\n",
    "    global D\n",
    "    D = len(uniqueWords)\n",
    "    len(uniqueWords)\n",
    "    \n",
    "    # TF Vector\n",
    "    TF = []\n",
    "    k=0\n",
    "    for review in onlyReviewsList:\n",
    "        k += 1\n",
    "        thisReview = np.zeros((1,D))\n",
    "        for counter, item in enumerate(uniqueWords):\n",
    "            for word in review.split(' '):\n",
    "                if word == item:\n",
    "                    thisReview[0,counter] += 1\n",
    "        if k==1:\n",
    "            TF = thisReview\n",
    "        else:\n",
    "            TF = np.concatenate((TF,thisReview),axis = 0)\n",
    "    \n",
    "    #DF Vector\n",
    "    global N\n",
    "    N = TF.shape[0]\n",
    "    DF = np.zeros((1,len(uniqueWords)))\n",
    "    for i in range(D):\n",
    "        c = 1\n",
    "        for j in range(N):\n",
    "            if (TF[j,i]>0):\n",
    "                c += 1\n",
    "        DF[0,i] = N/c\n",
    "    logDF = np.log(DF)\n",
    "    print(logDF)\n",
    "    \n",
    "    TF_IDF = np.multiply(TF,logDF)\n",
    "    \n",
    "    return TF_IDF"
   ]
  },
  {
   "cell_type": "code",
   "execution_count": 50,
   "id": "a05ebacb",
   "metadata": {},
   "outputs": [],
   "source": [
    "file = open('DataQ4.txt','r+')\n",
    "reviews = file.read()\n",
    "file.close()"
   ]
  },
  {
   "cell_type": "code",
   "execution_count": 51,
   "id": "7740f554",
   "metadata": {},
   "outputs": [],
   "source": [
    "reviewsList = reviews.split(\"\\n\")"
   ]
  },
  {
   "cell_type": "code",
   "execution_count": 52,
   "id": "bcd53e4e",
   "metadata": {},
   "outputs": [],
   "source": [
    "onlyReviewsList = []\n",
    "positiveNegativeList = []\n",
    "for i in reviewsList:\n",
    "    onlyReviewsList.append(i[0:len(i)-4].lower())\n",
    "    positiveNegativeList.append(i[len(i)-1:])"
   ]
  },
  {
   "cell_type": "code",
   "execution_count": 53,
   "id": "02cae154",
   "metadata": {},
   "outputs": [],
   "source": [
    "onlyReviewsList = np.array(onlyReviewsList)\n",
    "positiveNegativeList = np.array(positiveNegativeList)\n"
   ]
  },
  {
   "cell_type": "code",
   "execution_count": 54,
   "id": "3772f0aa",
   "metadata": {},
   "outputs": [
    {
     "name": "stdout",
     "output_type": "stream",
     "text": [
      "[[3.9633163  5.29831737 6.2146081  ... 5.80914299 5.80914299 6.2146081 ]]\n"
     ]
    }
   ],
   "source": [
    "TF_IDF = formTF_IDF(onlyReviewsList)"
   ]
  },
  {
   "cell_type": "code",
   "execution_count": 55,
   "id": "a4bbbe7e",
   "metadata": {},
   "outputs": [],
   "source": [
    "# Reducing the dimension from len(uniqueWords) to 10 using PCA\n",
    "temp = PCA(n_components = 10)\n",
    "reducedTF_IDF = temp.fit_transform(TF_IDF)"
   ]
  },
  {
   "cell_type": "code",
   "execution_count": 56,
   "id": "38a4f067",
   "metadata": {},
   "outputs": [],
   "source": [
    "# Initializing thew gaussian distributions\n",
    "r1 = random.randint(0, N-1)\n",
    "mean_1 = reducedTF_IDF[r1,:]\n",
    "cov_1 = np.matmul(np.transpose(reducedTF_IDF - mean_1),reducedTF_IDF-mean_1)\n",
    "alpha_1 = 0.5\n",
    "prob_1 = np.zeros((N,))\n",
    "\n",
    "r2 = random.randint(0, N-1)\n",
    "mean_2 = reducedTF_IDF[r2,:]\n",
    "cov_2 = np.matmul(np.transpose(reducedTF_IDF - mean_2),reducedTF_IDF-mean_2)\n",
    "alpha_2 =  0.5\n",
    "prob_2 = np.zeros((N,))\n"
   ]
  },
  {
   "cell_type": "code",
   "execution_count": 57,
   "id": "82151790",
   "metadata": {},
   "outputs": [
    {
     "name": "stdout",
     "output_type": "stream",
     "text": [
      "0th iteration\n",
      "E-Step\n"
     ]
    },
    {
     "data": {
      "application/vnd.jupyter.widget-view+json": {
       "model_id": "c6d2631eb3b74d93839ca8b5c0ac33fd",
       "version_major": 2,
       "version_minor": 0
      },
      "text/plain": [
       "  0%|          | 0/1000 [00:00<?, ?it/s]"
      ]
     },
     "metadata": {},
     "output_type": "display_data"
    },
    {
     "name": "stdout",
     "output_type": "stream",
     "text": [
      "M-Step\n"
     ]
    },
    {
     "data": {
      "image/png": "[encoded data removed]",
      "text/plain": [
       "<Figure size 432x288 with 1 Axes>"
      ]
     },
     "metadata": {
      "needs_background": "light"
     },
     "output_type": "display_data"
    },
    {
     "name": "stdout",
     "output_type": "stream",
     "text": [
      "1th iteration\n",
      "E-Step\n"
     ]
    },
    {
     "data": {
      "application/vnd.jupyter.widget-view+json": {
       "model_id": "b69bcc58dd7d43948bf4a1f68df13490",
       "version_major": 2,
       "version_minor": 0
      },
      "text/plain": [
       "  0%|          | 0/1000 [00:00<?, ?it/s]"
      ]
     },
     "metadata": {},
     "output_type": "display_data"
    },
    {
     "name": "stdout",
     "output_type": "stream",
     "text": [
      "M-Step\n"
     ]
    },
    {
     "data": {
      "image/png": "[encoded data removed]",
      "text/plain": [
       "<Figure size 432x288 with 1 Axes>"
      ]
     },
     "metadata": {
      "needs_background": "light"
     },
     "output_type": "display_data"
    },
    {
     "name": "stdout",
     "output_type": "stream",
     "text": [
      "2th iteration\n",
      "E-Step\n"
     ]
    },
    {
     "data": {
      "application/vnd.jupyter.widget-view+json": {
       "model_id": "63c301e911fc45209425c31131331dd0",
       "version_major": 2,
       "version_minor": 0
      },
      "text/plain": [
       "  0%|          | 0/1000 [00:00<?, ?it/s]"
      ]
     },
     "metadata": {},
     "output_type": "display_data"
    },
    {
     "name": "stdout",
     "output_type": "stream",
     "text": [
      "M-Step\n"
     ]
    },
    {
     "data": {
      "image/png": "[encoded data removed]",
      "text/plain": [
       "<Figure size 432x288 with 1 Axes>"
      ]
     },
     "metadata": {
      "needs_background": "light"
     },
     "output_type": "display_data"
    },
    {
     "name": "stdout",
     "output_type": "stream",
     "text": [
      "3th iteration\n",
      "E-Step\n"
     ]
    },
    {
     "data": {
      "application/vnd.jupyter.widget-view+json": {
       "model_id": "b0e9753d44604adb8217a929be986133",
       "version_major": 2,
       "version_minor": 0
      },
      "text/plain": [
       "  0%|          | 0/1000 [00:00<?, ?it/s]"
      ]
     },
     "metadata": {},
     "output_type": "display_data"
    },
    {
     "name": "stdout",
     "output_type": "stream",
     "text": [
      "M-Step\n"
     ]
    },
    {
     "data": {
      "image/png": "[encoded data removed]",
      "text/plain": [
       "<Figure size 432x288 with 1 Axes>"
      ]
     },
     "metadata": {
      "needs_background": "light"
     },
     "output_type": "display_data"
    },
    {
     "name": "stdout",
     "output_type": "stream",
     "text": [
      "4th iteration\n",
      "E-Step\n"
     ]
    },
    {
     "data": {
      "application/vnd.jupyter.widget-view+json": {
       "model_id": "114ece0a82534d18b4ccf8e31d447a7c",
       "version_major": 2,
       "version_minor": 0
      },
      "text/plain": [
       "  0%|          | 0/1000 [00:00<?, ?it/s]"
      ]
     },
     "metadata": {},
     "output_type": "display_data"
    },
    {
     "name": "stdout",
     "output_type": "stream",
     "text": [
      "M-Step\n"
     ]
    },
    {
     "data": {
      "image/png": "[encoded data removed]",
      "text/plain": [
       "<Figure size 432x288 with 1 Axes>"
      ]
     },
     "metadata": {
      "needs_background": "light"
     },
     "output_type": "display_data"
    },
    {
     "name": "stdout",
     "output_type": "stream",
     "text": [
      "5th iteration\n",
      "E-Step\n"
     ]
    },
    {
     "data": {
      "application/vnd.jupyter.widget-view+json": {
       "model_id": "e371e9b9d6ed45849be218e7c4143992",
       "version_major": 2,
       "version_minor": 0
      },
      "text/plain": [
       "  0%|          | 0/1000 [00:00<?, ?it/s]"
      ]
     },
     "metadata": {},
     "output_type": "display_data"
    },
    {
     "name": "stdout",
     "output_type": "stream",
     "text": [
      "M-Step\n"
     ]
    },
    {
     "data": {
      "image/png": "[encoded data removed]",
      "text/plain": [
       "<Figure size 432x288 with 1 Axes>"
      ]
     },
     "metadata": {
      "needs_background": "light"
     },
     "output_type": "display_data"
    },
    {
     "name": "stdout",
     "output_type": "stream",
     "text": [
      "6th iteration\n",
      "E-Step\n"
     ]
    },
    {
     "data": {
      "application/vnd.jupyter.widget-view+json": {
       "model_id": "4a9c6b3d98fe46ca90f8fea1bde33d55",
       "version_major": 2,
       "version_minor": 0
      },
      "text/plain": [
       "  0%|          | 0/1000 [00:00<?, ?it/s]"
      ]
     },
     "metadata": {},
     "output_type": "display_data"
    },
    {
     "name": "stdout",
     "output_type": "stream",
     "text": [
      "M-Step\n"
     ]
    },
    {
     "data": {
      "image/png": "[encoded data removed]",
      "text/plain": [
       "<Figure size 432x288 with 1 Axes>"
      ]
     },
     "metadata": {
      "needs_background": "light"
     },
     "output_type": "display_data"
    },
    {
     "name": "stdout",
     "output_type": "stream",
     "text": [
      "7th iteration\n",
      "E-Step\n"
     ]
    },
    {
     "data": {
      "application/vnd.jupyter.widget-view+json": {
       "model_id": "f669fc1099ce44499b8070a18d536dfd",
       "version_major": 2,
       "version_minor": 0
      },
      "text/plain": [
       "  0%|          | 0/1000 [00:00<?, ?it/s]"
      ]
     },
     "metadata": {},
     "output_type": "display_data"
    },
    {
     "name": "stdout",
     "output_type": "stream",
     "text": [
      "M-Step\n"
     ]
    },
    {
     "data": {
      "image/png": "[encoded data removed]",
      "text/plain": [
       "<Figure size 432x288 with 1 Axes>"
      ]
     },
     "metadata": {
      "needs_background": "light"
     },
     "output_type": "display_data"
    },
    {
     "name": "stdout",
     "output_type": "stream",
     "text": [
      "8th iteration\n",
      "E-Step\n"
     ]
    },
    {
     "data": {
      "application/vnd.jupyter.widget-view+json": {
       "model_id": "020498b04cb644719a3f5e76d84f024e",
       "version_major": 2,
       "version_minor": 0
      },
      "text/plain": [
       "  0%|          | 0/1000 [00:00<?, ?it/s]"
      ]
     },
     "metadata": {},
     "output_type": "display_data"
    },
    {
     "name": "stdout",
     "output_type": "stream",
     "text": [
      "M-Step\n"
     ]
    },
    {
     "data": {
      "image/png": "[encoded data removed]",
      "text/plain": [
       "<Figure size 432x288 with 1 Axes>"
      ]
     },
     "metadata": {
      "needs_background": "light"
     },
     "output_type": "display_data"
    },
    {
     "name": "stdout",
     "output_type": "stream",
     "text": [
      "9th iteration\n",
      "E-Step\n"
     ]
    },
    {
     "data": {
      "application/vnd.jupyter.widget-view+json": {
       "model_id": "239e6ce0165b47f3bae6468673f389f3",
       "version_major": 2,
       "version_minor": 0
      },
      "text/plain": [
       "  0%|          | 0/1000 [00:00<?, ?it/s]"
      ]
     },
     "metadata": {},
     "output_type": "display_data"
    },
    {
     "name": "stdout",
     "output_type": "stream",
     "text": [
      "M-Step\n"
     ]
    },
    {
     "data": {
      "image/png": "[encoded data removed]",
      "text/plain": [
       "<Figure size 432x288 with 1 Axes>"
      ]
     },
     "metadata": {
      "needs_background": "light"
     },
     "output_type": "display_data"
    }
   ],
   "source": [
    "# Iterating through steps in EM Algorithm\n",
    "k = 10\n",
    "for i in (range(k)):\n",
    "    print(f\"{i}th iteration\")\n",
    "    print(\"E-Step\")\n",
    "    for i in tqdm(range(N)):\n",
    "        num_1 = (alpha_1 * multivariate_normal.pdf(reducedTF_IDF[i,:], mean=mean_1, cov=cov_1,allow_singular = True))\n",
    "        num_2 = (alpha_2 * multivariate_normal.pdf(reducedTF_IDF[i,:], mean=mean_2, cov=cov_2,allow_singular = True))\n",
    "        denom = num_1 + num_2\n",
    "        prob_1[i] = num_1/denom\n",
    "        prob_2[i] = num_2/denom\n",
    "        \n",
    "        \n",
    "    print(\"M-Step\")\n",
    "    \n",
    "    #Finding updated means\n",
    "    mean_1 = np.matmul(np.transpose(reducedTF_IDF),prob_1)/np.sum(prob_1)\n",
    "    mean_2 = np.matmul(np.transpose(reducedTF_IDF),prob_2)/np.sum(prob_2)\n",
    "\n",
    "    \n",
    "    #Finding updates Covariance Matrices\n",
    "    tempMatrix_1 = np.zeros((10,10))\n",
    "    tempMatrix_2 = np.zeros((10,10))\n",
    "    \n",
    "    for i in (range(N)):\n",
    "        x = (reducedTF_IDF[i,:] - mean_1).reshape(10,1)\n",
    "        tempMatrix_1 += prob_1[i]* np.matmul(x,np.transpose(x))\n",
    "        y = (reducedTF_IDF[i,:] - mean_2).reshape(10,1)\n",
    "        tempMatrix_2 += prob_2[i] * np.matmul(y,np.transpose(y))\n",
    "    \n",
    "    cov_1 = np.diag(tempMatrix_1/np.sum(prob_1))\n",
    "    cov_2 = np.diag(tempMatrix_2/np.sum(prob_2))\n",
    "    \n",
    "    \n",
    "    # Finding updated Posteriors of two classes\n",
    "    alpha_1 = np.mean(prob_1)\n",
    "    alpha_2 = np.mean(prob_2) \n",
    "    \n",
    "    #Plotting at each iteration using the first two dimesion\n",
    "#     positive = []\n",
    "#     negative = []\n",
    "#     for i in range(N):\n",
    "#         if(prob_1[i]<prob_2[i]):\n",
    "#             positive.append(reducedTF_IDF[i,:])\n",
    "#         else:\n",
    "#             negative.append(reducedTF_IDF[i,:])\n",
    "#     positive = np.array(positive)\n",
    "#     negative = np.array(negative)\n",
    "    \n",
    "#     plt.scatter(positive[:,0],positive[:,1],color= 'r')    \n",
    "#     plt.scatter(negative[:,0],negative[:,1],color= 'g')    \n",
    "#     plt.show()\n",
    "    \n",
    "    #Plotting at each iteration using the first two dimesion\n",
    "    plt.scatter(reducedTF_IDF[prob_1 > prob_2,0],reducedTF_IDF[prob_1 > prob_2,1],color= 'r')\n",
    "    plt.scatter(reducedTF_IDF[prob_1 <= prob_2,0],reducedTF_IDF[prob_1 <= prob_2,1],color= 'g')\n",
    "    plt.show()\n",
    "    \n",
    "    "
   ]
  },
  {
   "cell_type": "code",
   "execution_count": 59,
   "id": "4c827cf3",
   "metadata": {},
   "outputs": [
    {
     "name": "stdout",
     "output_type": "stream",
     "text": [
      "Accuracy =  50.1 %\n"
     ]
    }
   ],
   "source": [
    "compare = []\n",
    "for i in range(N):\n",
    "    if(prob_1[i]>prob_2[i]):\n",
    "        compare.append(0)\n",
    "    else:\n",
    "        compare.append(1)\n",
    "\n",
    "correctPrediction = 0\n",
    "for i in range(N):\n",
    "    if(compare[i] == int(positiveNegativeList[i])):\n",
    "        correctPrediction += 1\n",
    "\n",
    "accuracy = correctPrediction/N * 100        \n",
    "print (\"Accuracy = \",accuracy, \"%\")"
   ]
  },
  {
   "cell_type": "code",
   "execution_count": null,
   "id": "9622d850",
   "metadata": {},
   "outputs": [],
   "source": []
  }
 ],
 "metadata": {
  "kernelspec": {
   "display_name": "Python 3 (ipykernel)",
   "language": "python",
   "name": "python3"
  },
  "language_info": {
   "codemirror_mode": {
    "name": "ipython",
    "version": 3
   },
   "file_extension": ".py",
   "mimetype": "text/x-python",
   "name": "python",
   "nbconvert_exporter": "python",
   "pygments_lexer": "ipython3",
   "version": "3.10.0"
  }
 },
 "nbformat": 4,
 "nbformat_minor": 5
}
