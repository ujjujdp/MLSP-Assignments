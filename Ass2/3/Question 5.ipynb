{
 "cells": [
  {
   "cell_type": "code",
   "execution_count": 1,
   "id": "a0d08e59",
   "metadata": {},
   "outputs": [],
   "source": [
    "# Importing necessary packages\n",
    "import numpy as np\n",
    "from scipy.io import wavfile\n",
    "import math\n",
    "import matplotlib.pyplot as plt"
   ]
  },
  {
   "cell_type": "code",
   "execution_count": 2,
   "id": "3a95545d",
   "metadata": {},
   "outputs": [],
   "source": [
    "# Function to plot spectogram\n",
    "def plot_spectogram(frequency, data):\n",
    "    plt.title('Spectrogram')\n",
    "    plt.specgram(data,Fs=frequency)\n",
    "    plt.xlabel('Time')\n",
    "    plt.ylabel('Frequency')\n",
    "    plt.show()"
   ]
  },
  {
   "cell_type": "markdown",
   "id": "2b1ca92e",
   "metadata": {},
   "source": [
    "# Functions to compute average of non-diagonal elements"
   ]
  },
  {
   "cell_type": "code",
   "execution_count": 3,
   "id": "13feab7b",
   "metadata": {},
   "outputs": [],
   "source": [
    "def compute_non_diag_avg(temp_arr, reduced_log_data):\n",
    "    #Finding mean of clean data\n",
    "    temp_mean = np.mean(reduced_log_data, axis = 1)\n",
    "    temp_mean = np.reshape(temp_mean, (128,1))\n",
    "\n",
    "    x_double_prime = np.matmul(temp_arr,(reduced_log_data-temp_mean))\n",
    "    x_double_prime_mean = np.mean(x_double_prime, axis = 1)\n",
    "    x_double_prime_mean = np.reshape(x_double_prime_mean,(128,1))\n",
    "\n",
    "    Sx_after_whitening = np.matmul((x_double_prime-x_double_prime_mean),np.transpose(x_double_prime-x_double_prime_mean))\n",
    "    Sx_after_whitening = np.multiply(Sx_after_whitening, 1/298)\n",
    "\n",
    "    Sx_after_whitening_abs = np.absolute(Sx_after_whitening)\n",
    "\n",
    "    sum_non_diag = 0\n",
    "    for i in range(128):\n",
    "        for j in range(128):\n",
    "            if(i==j):\n",
    "                continue\n",
    "            sum_non_diag += Sx_after_whitening_abs[i][j]\n",
    "\n",
    "    avg_non_diag = sum_non_diag/(128*128-128)\n",
    "    \n",
    "    return avg_non_diag\n",
    "    "
   ]
  },
  {
   "cell_type": "code",
   "execution_count": 4,
   "id": "7b767d3f",
   "metadata": {},
   "outputs": [],
   "source": [
    "def compute_non_diag_avg_B(temp_arr_B, reduced_log_data_B):\n",
    "    #Finding mean of clean data\n",
    "    temp_mean = np.mean(reduced_log_data_B, axis = 1)\n",
    "    temp_mean = np.reshape(temp_mean, (128,1))\n",
    "\n",
    "    x_double_prime_B = np.matmul(temp_arr_B,(reduced_log_data_B-temp_mean))\n",
    "    x_double_prime_mean_B = np.mean(x_double_prime_B, axis = 1)\n",
    "    x_double_prime_mean_B = np.reshape(x_double_prime_mean_B,(128,1))\n",
    "\n",
    "    Sx_after_whitening_B = np.matmul((x_double_prime_B-x_double_prime_mean_B),np.transpose(x_double_prime_B-x_double_prime_mean_B))\n",
    "    Sx_after_whitening_B = np.multiply(Sx_after_whitening_B, 1/298)\n",
    "\n",
    "    Sx_after_whitening_abs_B = np.absolute(Sx_after_whitening_B)\n",
    "\n",
    "    sum_non_diag_B = 0\n",
    "    for i in range(128):\n",
    "        for j in range(128):\n",
    "            if(i==j):\n",
    "                continue\n",
    "            sum_non_diag_B += Sx_after_whitening_abs_B[i][j]\n",
    "\n",
    "    avg_non_diag_B = sum_non_diag_B/(128*128-128)\n",
    "\n",
    "    return avg_non_diag_B"
   ]
  },
  {
   "cell_type": "markdown",
   "id": "b23f40f9",
   "metadata": {},
   "source": [
    "# Reading Files and processing"
   ]
  },
  {
   "cell_type": "code",
   "execution_count": 5,
   "id": "a3a86af0",
   "metadata": {},
   "outputs": [],
   "source": [
    "# Reading files\n",
    "samplerate_clean, data_clean = wavfile.read(r\"C:\\Users\\ujjaw\\Desktop\\MLSP_Assignments\\Ass1\\5. Speech Spectogram\\speechFiles\\clean.wav\")\n",
    "samplerate_noise, data_noise = wavfile.read(r\"C:\\Users\\ujjaw\\Desktop\\MLSP_Assignments\\Ass1\\5. Speech Spectogram\\speechFiles\\noise.wav\")\n",
    "samplerate_noisy, data_noisy = wavfile.read(r\"C:\\Users\\ujjaw\\Desktop\\MLSP_Assignments\\Ass1\\5. Speech Spectogram\\speechFiles\\noisy.wav\")"
   ]
  },
  {
   "cell_type": "code",
   "execution_count": 6,
   "id": "9654bfd9",
   "metadata": {},
   "outputs": [],
   "source": [
    "#Finding Feature Vector of Clean, Noise and Noisy wav file for 298 frames\n",
    "hamming_window_size = int(25*16000/1000)\n",
    "shift_length = int(10*16000/1000)\n",
    "feature_vector_clean = []\n",
    "feature_vector_noise = []\n",
    "feature_vector_noisy = []\n",
    "for i in range(298):\n",
    "    start_point = i*shift_length\n",
    "    end_point = i*shift_length + hamming_window_size\n",
    "    feature_vector_clean.append(data_clean[start_point:end_point])\n",
    "    feature_vector_noise.append(data_noise[start_point:end_point])\n",
    "    feature_vector_noisy.append(data_noisy[start_point:end_point])\n",
    "    \n",
    "feature_vector_clean = np.transpose(np.array(feature_vector_clean))\n",
    "feature_vector_noise = np.transpose(np.array(feature_vector_noise))\n",
    "feature_vector_noisy = np.transpose(np.array(feature_vector_noisy))"
   ]
  },
  {
   "cell_type": "code",
   "execution_count": 7,
   "id": "433ef32c",
   "metadata": {},
   "outputs": [],
   "source": [
    "# Computing Fast Fourier Transformation for the feature vectors\n",
    "fft_clean = np.fft.fft(feature_vector_clean, n = 256, axis = 0)\n",
    "fft_noise = np.fft.fft(feature_vector_noise, n = 256, axis = 0)\n",
    "fft_noisy = np.fft.fft(feature_vector_noisy, n = 256, axis = 0)"
   ]
  },
  {
   "cell_type": "code",
   "execution_count": 8,
   "id": "c535baa4",
   "metadata": {},
   "outputs": [],
   "source": [
    "#Taking the first 128 dimension as the other half is symmetric\n",
    "reduced_clean = fft_clean[:128]\n",
    "reduced_noise = fft_noise[:128]\n",
    "reduced_noisy = fft_noisy[:128]"
   ]
  },
  {
   "cell_type": "code",
   "execution_count": 9,
   "id": "cdb654ce",
   "metadata": {},
   "outputs": [],
   "source": [
    "# Extracting the magnitude of the first half of the frequency\n",
    "reduced_abs_clean = np.absolute(reduced_clean)\n",
    "reduced_abs_noise = np.absolute(reduced_noise)\n",
    "reduced_abs_noisy = np.absolute(reduced_noisy)\n",
    "\n",
    "# Taking log of magnitude of the first half of the frequency\n",
    "reduced_log_clean = np.log(reduced_abs_clean)\n",
    "reduced_log_noise = np.log(reduced_abs_noise)\n",
    "reduced_log_noisy = np.log(reduced_abs_noisy)"
   ]
  },
  {
   "cell_type": "code",
   "execution_count": 10,
   "id": "ea4aa6d3",
   "metadata": {},
   "outputs": [
    {
     "name": "stdout",
     "output_type": "stream",
     "text": [
      "Clean File SPECTOGRAM\n"
     ]
    },
    {
     "name": "stderr",
     "output_type": "stream",
     "text": [
      "C:\\Users\\ujjaw\\AppData\\Local\\Temp\\ipykernel_11724\\593759964.py:4: UserWarning: Only one segment is calculated since parameter NFFT (=256) >= signal length (=128).\n",
      "  plt.specgram(data,Fs=frequency)\n"
     ]
    },
    {
     "data": {
      "image/png": "[encoded data removed]",
      "text/plain": [
       "<Figure size 432x288 with 1 Axes>"
      ]
     },
     "metadata": {
      "needs_background": "light"
     },
     "output_type": "display_data"
    }
   ],
   "source": [
    "print('Clean File SPECTOGRAM')\n",
    "plot_spectogram(samplerate_clean,reduced_log_clean)"
   ]
  },
  {
   "cell_type": "code",
   "execution_count": 11,
   "id": "fc7c0912",
   "metadata": {},
   "outputs": [
    {
     "name": "stdout",
     "output_type": "stream",
     "text": [
      "Noisy File SPECTOGRAM\n"
     ]
    },
    {
     "name": "stderr",
     "output_type": "stream",
     "text": [
      "C:\\Users\\ujjaw\\AppData\\Local\\Temp\\ipykernel_11724\\593759964.py:4: UserWarning: Only one segment is calculated since parameter NFFT (=256) >= signal length (=128).\n",
      "  plt.specgram(data,Fs=frequency)\n"
     ]
    },
    {
     "data": {
      "image/png": "[encoded data removed]",
      "text/plain": [
       "<Figure size 432x288 with 1 Axes>"
      ]
     },
     "metadata": {
      "needs_background": "light"
     },
     "output_type": "display_data"
    }
   ],
   "source": [
    "print('Noisy File SPECTOGRAM')\n",
    "plot_spectogram(samplerate_noisy,reduced_log_noisy)"
   ]
  },
  {
   "cell_type": "markdown",
   "id": "7652e8af",
   "metadata": {},
   "source": [
    "# Computing Whitening Transformation from clean file"
   ]
  },
  {
   "cell_type": "code",
   "execution_count": 12,
   "id": "51d31039",
   "metadata": {},
   "outputs": [],
   "source": [
    "#Finding mean of clean data\n",
    "clean_mean = np.mean(reduced_log_clean, axis = 1)\n",
    "clean_mean = np.reshape(clean_mean, (128,1))\n",
    "\n",
    "# Finding Cov matrix of clean data Sx\n",
    "Sx_clean = np.matmul((reduced_log_clean-clean_mean),np.transpose(reduced_log_clean-clean_mean))\n",
    "Sx_clean = np.multiply(Sx_clean,1/298)\n",
    "\n",
    "# Performing eigen analysis on Sx_clean\n",
    "e_val, e_vec = np.linalg.eig(Sx_clean)\n",
    "\n",
    "#Sorting Eigen Values and Corresponding Eigen Vectors\n",
    "idx = e_val.argsort()[::-1]   \n",
    "e_val = e_val[idx]\n",
    "e_vec = e_vec[:,idx]\n",
    "\n",
    "# Finding sigma^(1/2)\n",
    "sigma_power_half = np.array(np.zeros((128, 128)))\n",
    "for i in range(128):\n",
    "    sigma_power_half[i][i] = math.sqrt(e_val[i])\n",
    "    \n",
    "sigma_power_half_inverse = np.linalg.inv(sigma_power_half)\n",
    "\n",
    "temp_np_array = np.matmul(sigma_power_half_inverse, np.transpose(e_vec))"
   ]
  },
  {
   "cell_type": "markdown",
   "id": "c97b41a6",
   "metadata": {},
   "source": [
    "# Applying whitening transformation on clean file"
   ]
  },
  {
   "cell_type": "code",
   "execution_count": 13,
   "id": "960e4eeb",
   "metadata": {},
   "outputs": [
    {
     "name": "stdout",
     "output_type": "stream",
     "text": [
      "Average of non-diagnoal elements Clean_A =  5.624106188325451e-15\n"
     ]
    }
   ],
   "source": [
    "avg_non_diag_clean = compute_non_diag_avg(temp_np_array, reduced_log_clean)\n",
    "print (\"Average of non-diagnoal elements Clean_A = \",avg_non_diag_clean)"
   ]
  },
  {
   "cell_type": "markdown",
   "id": "ceee60a6",
   "metadata": {},
   "source": [
    "# Applying whitening transformation on noisy file"
   ]
  },
  {
   "cell_type": "code",
   "execution_count": 14,
   "id": "ac8a7e9d",
   "metadata": {},
   "outputs": [
    {
     "name": "stdout",
     "output_type": "stream",
     "text": [
      "Average of non-diagnoal elements Noisy_A = 0.20262565358264523\n"
     ]
    }
   ],
   "source": [
    "avg_non_diag_noisy = compute_non_diag_avg(temp_np_array, reduced_log_noisy)\n",
    "print (\"Average of non-diagnoal elements Noisy_A =\",avg_non_diag_noisy)"
   ]
  },
  {
   "cell_type": "markdown",
   "id": "ec79519f",
   "metadata": {},
   "source": [
    "# Part B\n"
   ]
  },
  {
   "cell_type": "markdown",
   "id": "e2d6e577",
   "metadata": {},
   "source": [
    "# Computing Whitening Transformation from noisy file"
   ]
  },
  {
   "cell_type": "code",
   "execution_count": 15,
   "id": "fc58a800",
   "metadata": {},
   "outputs": [],
   "source": [
    "#Finding mean of noisy data\n",
    "noisy_mean = np.mean(reduced_log_noisy, axis = 1)\n",
    "noisy_mean = np.reshape(noisy_mean, (128,1))\n",
    "\n",
    "# Finding Cov matrix of clean data Sx\n",
    "Sx_noisy = np.matmul((reduced_log_noisy-noisy_mean),np.transpose(reduced_log_noisy-noisy_mean))\n",
    "Sx_noisy = np.multiply(Sx_noisy,1/298)\n",
    "\n",
    "# Performing eigen analysis on Sx_noisy\n",
    "e_val_B, e_vec_B = np.linalg.eig(Sx_noisy)\n",
    "\n",
    "#Sorting Eigen Values and Corresponding Eigen Vectors\n",
    "idx = e_val_B.argsort()[::-1]   \n",
    "e_val_B = e_val_B[idx]\n",
    "e_vec_B = e_vec_B[:,idx]\n",
    "\n",
    "# Finding sigma^(1/2)\n",
    "sigma_power_half_B = np.array(np.zeros((128, 128)))\n",
    "for i in range(128):\n",
    "    sigma_power_half_B[i][i] = math.sqrt(e_val_B[i])\n",
    "\n",
    "sigma_power_half_inverse_B = np.linalg.inv(sigma_power_half_B)\n",
    "\n",
    "temp_np_array_B = np.matmul(sigma_power_half_inverse_B, np.transpose(e_vec_B))"
   ]
  },
  {
   "cell_type": "markdown",
   "id": "a1744d6f",
   "metadata": {},
   "source": [
    "# Applying whitening transformation on clean file"
   ]
  },
  {
   "cell_type": "code",
   "execution_count": 16,
   "id": "88abc1f1",
   "metadata": {},
   "outputs": [
    {
     "name": "stdout",
     "output_type": "stream",
     "text": [
      "Average of non-diagnoal elements Clean_B =  0.12678101775576353\n"
     ]
    }
   ],
   "source": [
    "avg_non_diag_clean_B = compute_non_diag_avg_B(temp_np_array_B, reduced_log_clean)\n",
    "print (\"Average of non-diagnoal elements Clean_B = \",avg_non_diag_clean_B)"
   ]
  },
  {
   "cell_type": "markdown",
   "id": "7f5d2958",
   "metadata": {},
   "source": [
    "# Applying whitening transformation on noisy file\n"
   ]
  },
  {
   "cell_type": "code",
   "execution_count": 17,
   "id": "4b843c9c",
   "metadata": {},
   "outputs": [
    {
     "name": "stdout",
     "output_type": "stream",
     "text": [
      "Average of non-diagnoal elements Noisy_B =  1.1065210379219143e-15\n"
     ]
    }
   ],
   "source": [
    "avg_non_diag_noisy_B = compute_non_diag_avg_B(temp_np_array_B, reduced_log_noisy)\n",
    "print (\"Average of non-diagnoal elements Noisy_B = \",avg_non_diag_noisy_B)"
   ]
  },
  {
   "cell_type": "markdown",
   "id": "6378cb41",
   "metadata": {},
   "source": [
    "Observation\n",
    "\n",
    "Whitening using clean data \n",
    "    i. average covariance between the frames is higher in noisy file\n",
    "    ii. average covariance between the frames is lower in clean file\n",
    "\n",
    "Whereas, a complete opposite is observed when Whitening is done using noisy data\n",
    "    i. average covariance between the frames is lower in noisy file\n",
    "    ii. average covariance between the frames is higher in clean file\n"
   ]
  }
 ],
 "metadata": {
  "kernelspec": {
   "display_name": "Python 3 (ipykernel)",
   "language": "python",
   "name": "python3"
  },
  "language_info": {
   "codemirror_mode": {
    "name": "ipython",
    "version": 3
   },
   "file_extension": ".py",
   "mimetype": "text/x-python",
   "name": "python",
   "nbconvert_exporter": "python",
   "pygments_lexer": "ipython3",
   "version": "3.10.0"
  }
 },
 "nbformat": 4,
 "nbformat_minor": 5
}
